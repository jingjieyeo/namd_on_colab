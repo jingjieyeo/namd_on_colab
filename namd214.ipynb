{
  "cells": [
    {
      "cell_type": "code",
      "execution_count": null,
      "metadata": {
        "colab": {
          "base_uri": "https://localhost:8080/"
        },
        "id": "HS81BcMQncVW",
        "outputId": "079e21f3-a97e-4bd1-98f1-f9f8b59332ef"
      },
      "outputs": [],
      "source": [
        "# Download the NAMD executable from the NAMD website\n",
        "!wget https://www.ks.uiuc.edu/Research/namd/2.14/download/946183/NAMD_2.14_Linux-x86_64-multicore-CUDA.tar.gz\n",
        "\n",
        "# Extract the file\n",
        "!tar -zxf /content/NAMD_2.14_Linux-x86_64-multicore-CUDA.tar.gz\n",
        "\n",
        "# Mount your Google Drive\n",
        "from google.colab import drive\n",
        "drive.mount(\"/content/drive\")"
      ]
    }
  ],
  "metadata": {
    "accelerator": "GPU",
    "colab": {
      "provenance": []
    },
    "kernelspec": {
      "display_name": "Python 3",
      "name": "python3"
    }
  },
  "nbformat": 4,
  "nbformat_minor": 0
}
